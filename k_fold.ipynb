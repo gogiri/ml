{
  "nbformat": 4,
  "nbformat_minor": 0,
  "metadata": {
    "colab": {
      "provenance": [],
      "mount_file_id": "1fymggco5LzT0QLdUdg7u2LG0D6Y3EoUv",
      "authorship_tag": "ABX9TyNnEDqyB8ROsZsBb5ZCmDfU",
      "include_colab_link": true
    },
    "kernelspec": {
      "name": "python3",
      "display_name": "Python 3"
    },
    "language_info": {
      "name": "python"
    }
  },
  "cells": [
    {
      "cell_type": "markdown",
      "metadata": {
        "id": "view-in-github",
        "colab_type": "text"
      },
      "source": [
        "<a href=\"https://colab.research.google.com/github/gogiri/ml/blob/main/k_fold.ipynb\" target=\"_parent\"><img src=\"https://colab.research.google.com/assets/colab-badge.svg\" alt=\"Open In Colab\"/></a>"
      ]
    },
    {
      "cell_type": "code",
      "execution_count": null,
      "metadata": {
        "id": "WW8BcZhryRxh"
      },
      "outputs": [],
      "source": [
        "from sklearn.model_selection import KFold\n",
        "from sklearn.datasets import load_iris\n",
        "from sklearn.metrics import accuracy_score\n",
        "from sklearn.ensemble import RandomForestClassifier\n",
        "from sklearn.tree import DecisionTreeClassifier\n",
        "from xgboost import XGBClassifier\n",
        "import numpy as np\n",
        "import pandas as pd\n"
      ]
    },
    {
      "cell_type": "code",
      "source": [
        "# 데이터 불러오기\n",
        "iris = load_iris()\n",
        "features = iris.data\n",
        "label = iris.target\n",
        "dt_xgb = XGBClassifier(random_state=17)\n",
        "dt_rf = RandomForestClassifier(random_state=17)\n",
        "dt_tr = DecisionTreeClassifier(random_state=17)\n",
        "\n",
        "# k-fold 데이터 나누기\n",
        "kfold = KFold(n_splits = 5)\n",
        "cv_accuracy = []\n",
        "print('붓꽃 데이터 세트 크기:', features.shape[0])"
      ],
      "metadata": {
        "colab": {
          "base_uri": "https://localhost:8080/"
        },
        "id": "-rDADw-V_EXv",
        "outputId": "5791153b-31e3-4511-cae3-7f517527433c"
      },
      "execution_count": null,
      "outputs": [
        {
          "output_type": "stream",
          "name": "stdout",
          "text": [
            "붓꽃 데이터 세트 크기: 150\n"
          ]
        }
      ]
    },
    {
      "cell_type": "code",
      "source": [
        "n_iter = 0\n",
        "for train_index , test_index in kfold.split(features):\n",
        "    X_train , X_test = features[train_index] , features[test_index]\n",
        "    y_train , y_test = label[train_index],label[test_index]\n",
        "    dt_tr.fit(X_train,y_train)\n",
        "    pred = dt_tr.predict(X_test)\n",
        "    n_iter +=1\n",
        "    accuracy = np.round(accuracy_score(y_test,pred),4)\n",
        "    train_size = X_train.shape[0]\n",
        "    test_size = X_test.shape[0]\n",
        "    print('\\n#{0} 교차 검증 정확도 : {1},학습데이터 크기:{2},검증데이터 크기:{3}'.format(n_iter,accuracy,train_size,test_size))\n",
        "    print('#{0} 검정 세트 인덱스:{1}'.format(n_iter,test_index))\n",
        "    cv_accuracy.append(accuracy)\n",
        "#개별 iteration별 정확도를 합하여 평균 정확도 계산\n",
        "print('\\n## 평균 검증 정확도:' , np.mean(cv_accuracy))"
      ],
      "metadata": {
        "colab": {
          "base_uri": "https://localhost:8080/"
        },
        "id": "91TIdMKZOXRO",
        "outputId": "65b5b6f2-255d-465f-d675-fa26fd126348"
      },
      "execution_count": null,
      "outputs": [
        {
          "output_type": "stream",
          "name": "stdout",
          "text": [
            "\n",
            "#1 교차 검증 정확도 : 1.0,학습데이터 크기:120,검증데이터 크기:30\n",
            "#1 검정 세트 인덱스:[ 0  1  2  3  4  5  6  7  8  9 10 11 12 13 14 15 16 17 18 19 20 21 22 23\n",
            " 24 25 26 27 28 29]\n",
            "\n",
            "#2 교차 검증 정확도 : 0.9667,학습데이터 크기:120,검증데이터 크기:30\n",
            "#2 검정 세트 인덱스:[30 31 32 33 34 35 36 37 38 39 40 41 42 43 44 45 46 47 48 49 50 51 52 53\n",
            " 54 55 56 57 58 59]\n",
            "\n",
            "#3 교차 검증 정확도 : 0.9,학습데이터 크기:120,검증데이터 크기:30\n",
            "#3 검정 세트 인덱스:[60 61 62 63 64 65 66 67 68 69 70 71 72 73 74 75 76 77 78 79 80 81 82 83\n",
            " 84 85 86 87 88 89]\n",
            "\n",
            "#4 교차 검증 정확도 : 0.9333,학습데이터 크기:120,검증데이터 크기:30\n",
            "#4 검정 세트 인덱스:[ 90  91  92  93  94  95  96  97  98  99 100 101 102 103 104 105 106 107\n",
            " 108 109 110 111 112 113 114 115 116 117 118 119]\n",
            "\n",
            "#5 교차 검증 정확도 : 0.7333,학습데이터 크기:120,검증데이터 크기:30\n",
            "#5 검정 세트 인덱스:[120 121 122 123 124 125 126 127 128 129 130 131 132 133 134 135 136 137\n",
            " 138 139 140 141 142 143 144 145 146 147 148 149]\n",
            "\n",
            "## 평균 검증 정확도: 0.9066599999999999\n"
          ]
        }
      ]
    },
    {
      "cell_type": "code",
      "source": [
        "from sklearn.model_selection import StratifiedKFold\n",
        "skfold = StratifiedKFold(n_splits=3)\n",
        "n_iter = 0\n",
        "for train_index, test_index in skfold.split(features, label):\n",
        "  X_train, X_test = features[train_index], features[test_index]\n",
        "  y_train, y_test = label[train_index], label[test_index]\n",
        "#dt_xgb\n",
        "  dt_xgb.fit(X_train, y_train)\n",
        "  pred = dt_xgb.predict(X_test)\n",
        "  n_iter += 1\n",
        "  accuracy = np.round(accuracy_score(y_test,pred), 4)\n",
        "  train_size = X_train.shape[0]\n",
        "  test_size = X_test.shape[0]\n",
        "  print('{0}교차 검증 정확도 : {1}, 학습 데이터 크기: {2}, 검증데이터 : {3}'\n",
        "        .format(n_iter,accuracy, train_size, test_size))\n",
        "  print('{0} 검증 세트 인덱스:{1}'.format(n_iter, test_index))\n",
        "  cv_accuracy.append(accuracy)\n",
        "\n",
        "print('교차 검증별 정확도:', np.round(cv_accuracy, 4))\n",
        "print('평균 검증 정확도:', np.mean(cv_accuracy))"
      ],
      "metadata": {
        "colab": {
          "base_uri": "https://localhost:8080/"
        },
        "id": "5YEh2EqS_88J",
        "outputId": "d68a6e29-328e-41e5-edd1-7a6f230ed03a"
      },
      "execution_count": null,
      "outputs": [
        {
          "output_type": "stream",
          "name": "stdout",
          "text": [
            "1교차 검증 정확도 : 0.98, 학습 데이터 크기: 100, 검증데이터 : 50\n",
            "1 검증 세트 인덱스:[  0   1   2   3   4   5   6   7   8   9  10  11  12  13  14  15  16  50\n",
            "  51  52  53  54  55  56  57  58  59  60  61  62  63  64  65  66 100 101\n",
            " 102 103 104 105 106 107 108 109 110 111 112 113 114 115]\n",
            "2교차 검증 정확도 : 0.94, 학습 데이터 크기: 100, 검증데이터 : 50\n",
            "2 검증 세트 인덱스:[ 17  18  19  20  21  22  23  24  25  26  27  28  29  30  31  32  33  67\n",
            "  68  69  70  71  72  73  74  75  76  77  78  79  80  81  82 116 117 118\n",
            " 119 120 121 122 123 124 125 126 127 128 129 130 131 132]\n",
            "3교차 검증 정확도 : 0.96, 학습 데이터 크기: 100, 검증데이터 : 50\n",
            "3 검증 세트 인덱스:[ 34  35  36  37  38  39  40  41  42  43  44  45  46  47  48  49  83  84\n",
            "  85  86  87  88  89  90  91  92  93  94  95  96  97  98  99 133 134 135\n",
            " 136 137 138 139 140 141 142 143 144 145 146 147 148 149]\n",
            "교차 검증별 정확도: [1.     0.9667 0.9    0.9333 0.7333 0.98   0.94   0.96  ]\n",
            "평균 검증 정확도: 0.9266625\n"
          ]
        }
      ]
    },
    {
      "cell_type": "markdown",
      "source": [
        "# 새 섹션"
      ],
      "metadata": {
        "id": "x-MPK2vw1_f9"
      }
    },
    {
      "cell_type": "code",
      "source": [],
      "metadata": {
        "id": "P-j6Cu1fAD0P"
      },
      "execution_count": null,
      "outputs": []
    },
    {
      "cell_type": "code",
      "source": [],
      "metadata": {
        "id": "dlMzQuVgtjFj"
      },
      "execution_count": null,
      "outputs": []
    }
  ]
}