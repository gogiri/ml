{
  "nbformat": 4,
  "nbformat_minor": 0,
  "metadata": {
    "colab": {
      "provenance": [],
      "authorship_tag": "ABX9TyMtSLM3zqyyAbtfO22AJFqW",
      "include_colab_link": true
    },
    "kernelspec": {
      "name": "python3",
      "display_name": "Python 3"
    },
    "language_info": {
      "name": "python"
    }
  },
  "cells": [
    {
      "cell_type": "markdown",
      "metadata": {
        "id": "view-in-github",
        "colab_type": "text"
      },
      "source": [
        "<a href=\"https://colab.research.google.com/github/gogiri/ml/blob/main/Pipeline.ipynb\" target=\"_parent\"><img src=\"https://colab.research.google.com/assets/colab-badge.svg\" alt=\"Open In Colab\"/></a>"
      ]
    },
    {
      "cell_type": "code",
      "execution_count": null,
      "metadata": {
        "id": "kkf4ZUCaVLBG"
      },
      "outputs": [],
      "source": [
        "from sklearn.pipeline import Pipeline"
      ]
    },
    {
      "cell_type": "code",
      "source": [
        "from sklearn.datasets import make_classification\n",
        "import matplotlib.pyplot as plt\n",
        "\n",
        "X1, y1 = make_classification(n_samples=100, n_features=2, n_informative=2,\n",
        "                             n_redundant=0, n_classes=2, random_state=42)\n"
      ],
      "metadata": {
        "id": "WasO93d4V5an"
      },
      "execution_count": null,
      "outputs": []
    },
    {
      "cell_type": "code",
      "source": [
        "from sklearn.datasets import make_regression,make_classification\n",
        "\n",
        "from sklearn.metrics import accuracy_score\n",
        "from sklearn.model_selection import train_test_split\n",
        "\n",
        "from sklearn.pipeline import Pipeline\n",
        "from sklearn.preprocessing import StandardScaler\n",
        "from sklearn.tree import DecisionTreeClassifier\n",
        "\n",
        "X, y = make_classification(n_samples=100,n_features=10,n_informative=2, random_state=17)\n",
        "\n",
        "X_train, X_test, y_train, y_test = train_test_split( X, y, test_size=0.33, random_state=17)\n",
        "\n",
        "X_train.shape, X_test.shape, y_train.shape, y_test.shape\n",
        "\n",
        "pipeline = Pipeline([\n",
        "    ('scaler',StandardScaler()),\n",
        "    ('clf', DecisionTreeClassifier())\n",
        "\t])\n",
        "\n",
        "pipeline.fit(X_train,y_train)\n",
        "\n",
        "\n",
        "y_preds = pipeline.predict(X_test)\n",
        "\n",
        "accuracy_score(y_test,y_preds)"
      ],
      "metadata": {
        "colab": {
          "base_uri": "https://localhost:8080/"
        },
        "id": "aPwYvXtGambz",
        "outputId": "4d6e89b7-3455-4328-eb27-269c7717f7d3"
      },
      "execution_count": null,
      "outputs": [
        {
          "output_type": "execute_result",
          "data": {
            "text/plain": [
              "0.8787878787878788"
            ]
          },
          "metadata": {},
          "execution_count": 15
        }
      ]
    },
    {
      "cell_type": "code",
      "source": [
        "from sklearn.datasets import load_iris\n",
        "iris = load_iris()\n",
        "X = iris.data\n",
        "y = iris.target\n",
        "X_train, X_test, y_train, y_test = train_test_split( X, y, test_size=0.33, random_state=42)\n",
        "\n",
        "X_train.shape, X_test.shape, y_train.shape, y_test.shape\n",
        "\n",
        "pipeline = Pipeline([\n",
        "    ('scaler',StandardScaler()),\n",
        "    ('clf', DecisionTreeClassifier())\n",
        "\t])\n",
        "\n",
        "pipeline.fit(X_train,y_train)\n",
        "\n",
        "\n",
        "y_preds = pipeline.predict(X_test)\n",
        "\n",
        "accuracy_score(y_test,y_preds)"
      ],
      "metadata": {
        "colab": {
          "base_uri": "https://localhost:8080/"
        },
        "id": "Bhq15Xe2dJpu",
        "outputId": "083d2706-479a-43da-98ef-5730537fdcf3"
      },
      "execution_count": null,
      "outputs": [
        {
          "output_type": "execute_result",
          "data": {
            "text/plain": [
              "0.96"
            ]
          },
          "metadata": {},
          "execution_count": 16
        }
      ]
    },
    {
      "cell_type": "code",
      "source": [
        "from sklearn.datasets import make_regression,make_classification\n",
        "from sklearn.model_selection import cross_val_score\n",
        "from sklearn.metrics import accuracy_score\n",
        "from sklearn.model_selection import train_test_split\n",
        "from sklearn.datasets import load_iris\n",
        "from sklearn.pipeline import Pipeline\n",
        "from sklearn.preprocessing import StandardScaler\n",
        "from sklearn.ensemble import RandomForestClassifier\n",
        "from sklearn.model_selection import GridSearchCV\n",
        "iris = load_iris()\n",
        "X = iris.data\n",
        "y = iris.target\n",
        "\n",
        "param_grid = {\n",
        "    'clf__max_depth': [3, 5, 7, 9],\n",
        "    'clf__min_samples_split': [4, 6, 8]\n",
        "}\n",
        "\n",
        "pipeline = Pipeline([\n",
        "    ('scaler',StandardScaler()),\n",
        "    ('clf', RandomForestClassifier())\n",
        "\t])\n",
        "grid_rf = GridSearchCV(pipeline, param_grid = param_grid, cv = 5, refit = True)\n",
        "grid_rf.fit(X, y)\n",
        "grid_clf = grid_rf.best_estimator_\n",
        "scores = cross_val_score(grid_clf ,X , y ,scoring='accuracy' ,  cv=5 )\n",
        "scores"
      ],
      "metadata": {
        "colab": {
          "base_uri": "https://localhost:8080/"
        },
        "id": "-Cg3yhlleHqK",
        "outputId": "bfd33064-7575-445a-a1f6-4b934c2bb6bd"
      },
      "execution_count": null,
      "outputs": [
        {
          "output_type": "execute_result",
          "data": {
            "text/plain": [
              "array([0.96666667, 0.96666667, 0.93333333, 0.9       , 1.        ])"
            ]
          },
          "metadata": {},
          "execution_count": 20
        }
      ]
    },
    {
      "cell_type": "code",
      "source": [
        "import numpy as np\n",
        "np.mean(scores)"
      ],
      "metadata": {
        "colab": {
          "base_uri": "https://localhost:8080/"
        },
        "id": "77R98E17ih7X",
        "outputId": "251d1ea8-11f6-4fa1-97f2-8d02332f54ba"
      },
      "execution_count": null,
      "outputs": [
        {
          "output_type": "execute_result",
          "data": {
            "text/plain": [
              "0.96"
            ]
          },
          "metadata": {},
          "execution_count": 19
        }
      ]
    },
    {
      "cell_type": "code",
      "source": [],
      "metadata": {
        "id": "Y_OZhBNWkRar"
      },
      "execution_count": null,
      "outputs": []
    }
  ]
}